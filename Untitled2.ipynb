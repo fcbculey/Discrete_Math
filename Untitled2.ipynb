{
  "nbformat": 4,
  "nbformat_minor": 0,
  "metadata": {
    "colab": {
      "name": "Untitled2.ipynb",
      "provenance": [],
      "include_colab_link": true
    },
    "kernelspec": {
      "name": "python3",
      "display_name": "Python 3"
    },
    "language_info": {
      "name": "python"
    }
  },
  "cells": [
    {
      "cell_type": "markdown",
      "metadata": {
        "id": "view-in-github",
        "colab_type": "text"
      },
      "source": [
        "<a href=\"https://colab.research.google.com/github/fcbculey/Discrete_Math/blob/master/Untitled2.ipynb\" target=\"_parent\"><img src=\"https://colab.research.google.com/assets/colab-badge.svg\" alt=\"Open In Colab\"/></a>"
      ]
    },
    {
      "cell_type": "markdown",
      "source": [
        "#   Project 2 - Discrete Mathematics [CPSMA_3913]\n",
        "\n",
        "##  Project Title: Relations and Functions\n",
        "\n",
        "## Prof. Dr. Jacob\n",
        "\n",
        "##Kuldeep Gautam [274153]"
      ],
      "metadata": {
        "id": "z8ZLCiAEocZU"
      }
    },
    {
      "cell_type": "markdown",
      "source": [
        "#Function \n",
        "\n",
        "For this project, I am going to use the mentioned function. \n",
        "\n",
        "\n",
        "Mathematically, \n",
        "$$\n",
        "f(x) = \\frac{x}{ 2\\sqrt{2\\pi}} e^{-^4}\n",
        "$$\n",
        "\n"
      ],
      "metadata": {
        "id": "x_NPwUIpjvEI"
      }
    },
    {
      "cell_type": "code",
      "source": [
        "import math\n",
        "import numpy as np\n",
        "\n",
        "def red(x):\n",
        " return 1/(2 *math.sqrt(2*math.pi))*np.e**(-x**4)"
      ],
      "metadata": {
        "id": "Z8w6Pm1imOOx"
      },
      "execution_count": null,
      "outputs": []
    },
    {
      "cell_type": "code",
      "source": [
        "red(5)"
      ],
      "metadata": {
        "colab": {
          "base_uri": "https://localhost:8080/"
        },
        "id": "r6wPqZ-7ncb_",
        "outputId": "9e7ec008-769c-48b5-ed10-90008a3d4fcf"
      },
      "execution_count": null,
      "outputs": [
        {
          "output_type": "execute_result",
          "data": {
            "text/plain": [
              "7.34224514271822e-273"
            ]
          },
          "metadata": {},
          "execution_count": 2
        }
      ]
    },
    {
      "cell_type": "markdown",
      "source": [
        "#Graph"
      ],
      "metadata": {
        "id": "ebaO8d2adjs2"
      }
    },
    {
      "cell_type": "code",
      "source": [
        "import matplotlib.pyplot as plt\n",
        "\n",
        "x = np.arange(-10,10,.1) \n",
        "plt.plot(x,red(x))"
      ],
      "metadata": {
        "colab": {
          "base_uri": "https://localhost:8080/",
          "height": 282
        },
        "id": "Q_iMlOAMnkGT",
        "outputId": "60961d8f-4b23-412a-deed-e7e76b23d14f"
      },
      "execution_count": null,
      "outputs": [
        {
          "output_type": "execute_result",
          "data": {
            "text/plain": [
              "[<matplotlib.lines.Line2D at 0x7f7aba741e10>]"
            ]
          },
          "metadata": {},
          "execution_count": 3
        },
        {
          "output_type": "display_data",
          "data": {
            "image/png": "[encoded data removed]",
            "text/plain": [
              "<Figure size 432x288 with 1 Axes>"
            ]
          },
          "metadata": {
            "needs_background": "light"
          }
        }
      ]
    },
    {
      "cell_type": "markdown",
      "source": [
        "#Dictionary\n"
      ],
      "metadata": {
        "id": "ifz2X4o7kMlb"
      }
    },
    {
      "cell_type": "code",
      "source": [
        "sagar = ['lilbaby','kodak black','Juice world','Future','Gunna']\n",
        "\n",
        "saurav = ['post malone','roddy rich','kanya west','drake','lilbaby']\n",
        "\n",
        "dictionary = dict({sagar:saurav for sagar,saurav in zip(sagar,saurav)})"
      ],
      "metadata": {
        "id": "SteBJOE9dy5L"
      },
      "execution_count": null,
      "outputs": []
    },
    {
      "cell_type": "code",
      "source": [
        "dictionary\n"
      ],
      "metadata": {
        "colab": {
          "base_uri": "https://localhost:8080/"
        },
        "id": "PcXeIPxRd5CW",
        "outputId": "4011d85c-43ae-48d3-aced-ba7456a7ef7a"
      },
      "execution_count": null,
      "outputs": [
        {
          "output_type": "execute_result",
          "data": {
            "text/plain": [
              "{'Future': 'drake',\n",
              " 'Gunna': 'lilbaby',\n",
              " 'Juice world': 'kanya west',\n",
              " 'kodak black': 'roddy rich',\n",
              " 'lilbaby': 'post malone'}"
            ]
          },
          "metadata": {},
          "execution_count": 2
        }
      ]
    },
    {
      "cell_type": "code",
      "source": [
        "actualDictionary = dict({'drake':'future','kanya west':'drake','future':'post malone'})\n",
        "\n",
        "# the only possible sets for the dictionary is drake and future."
      ],
      "metadata": {
        "id": "L8NwBuNad9W4"
      },
      "execution_count": null,
      "outputs": []
    },
    {
      "cell_type": "code",
      "source": [
        "updatelist = [actualDictionary.get(x,x) for x in sagar]"
      ],
      "metadata": {
        "id": "69v286OkeDjI"
      },
      "execution_count": null,
      "outputs": []
    },
    {
      "cell_type": "code",
      "source": [
        "updatelist"
      ],
      "metadata": {
        "colab": {
          "base_uri": "https://localhost:8080/"
        },
        "id": "4HzO9EEzeH9k",
        "outputId": "aa8ec6a0-b0e6-4c07-9e8b-c840b76c31fd"
      },
      "execution_count": null,
      "outputs": [
        {
          "output_type": "execute_result",
          "data": {
            "text/plain": [
              "['lilbaby', 'kodak black', 'Juice world', 'Future', 'Gunna']"
            ]
          },
          "metadata": {},
          "execution_count": 5
        }
      ]
    },
    {
      "cell_type": "code",
      "source": [
        ""
      ],
      "metadata": {
        "id": "eIBNVwnF933m"
      },
      "execution_count": null,
      "outputs": []
    },
    {
      "cell_type": "markdown",
      "source": [
        "I am cosidering the given sets as an endo-relation.\n",
        "\n",
        "My function can be one to one but not onto so,neither bijective. Also, this function cannot be called reflexive as one element transfers to another one but not itself. This is also not symmetric and neither transitive. It came close to be transitive. Some of the elements in domain and co-domain are not related to any element which makes harder to make the relation bijective. so, these elements has to be removed to make bijective."
      ],
      "metadata": {
        "id": "noO3guC5eWGg"
      }
    },
    {
      "cell_type": "code",
      "source": [
        "N=len(updatelist)"
      ],
      "metadata": {
        "id": "ULX88OYT_5DU"
      },
      "execution_count": null,
      "outputs": []
    },
    {
      "cell_type": "code",
      "source": [
        "2**N"
      ],
      "metadata": {
        "colab": {
          "base_uri": "https://localhost:8080/"
        },
        "id": "kdbxcjEQ_eXV",
        "outputId": "a2e59c66-8153-48eb-82ec-5e7ddf2ba733"
      },
      "execution_count": null,
      "outputs": [
        {
          "output_type": "execute_result",
          "data": {
            "text/plain": [
              "32"
            ]
          },
          "metadata": {},
          "execution_count": 9
        }
      ]
    },
    {
      "cell_type": "markdown",
      "source": [
        "So, there are 32 relations possible."
      ],
      "metadata": {
        "id": "KCfVJt5vAfmJ"
      }
    },
    {
      "cell_type": "markdown",
      "source": [
        "# Findings\n",
        "\n",
        "In this part of the project, I am  satisfied with my results so far. \n",
        "\n"
      ],
      "metadata": {
        "id": "9KivY4EpeYeg"
      }
    }
  ]
}