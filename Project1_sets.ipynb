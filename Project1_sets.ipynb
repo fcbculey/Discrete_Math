{
  "nbformat": 4,
  "nbformat_minor": 0,
  "metadata": {
    "colab": {
      "name": "Project1_sets.ipynb",
      "provenance": [],
      "include_colab_link": true
    },
    "kernelspec": {
      "name": "python3",
      "display_name": "Python 3"
    }
  },
  "cells": [
    {
      "cell_type": "markdown",
      "metadata": {
        "id": "view-in-github",
        "colab_type": "text"
      },
      "source": [
        "<a href=\"https://colab.research.google.com/github/fcbculey/Discrete_Math/blob/master/Project1_sets.ipynb\" target=\"_parent\"><img src=\"https://colab.research.google.com/assets/colab-badge.svg\" alt=\"Open In Colab\"/></a>"
      ]
    },
    {
      "cell_type": "markdown",
      "metadata": {
        "id": "YCJaepmmfKrS"
      },
      "source": [
        "# Project Part #1: CPSMA 3133 Discrete Mathematics \n",
        "## Prof. Dr. Jacob\n",
        "## Sets\n",
        "\n",
        "### Kuldeep Gautam [274153]\n",
        "\n",
        "\n",
        "\n"
      ]
    },
    {
      "cell_type": "markdown",
      "metadata": {
        "id": "Xs_Pvtua1Nnt"
      },
      "source": [
        "## Course title:  Sets"
      ]
    },
    {
      "cell_type": "markdown",
      "metadata": {
        "id": "2z6U1aB_fQDM"
      },
      "source": [
        "\n",
        "\n",
        "**Description of the Project**\n",
        "\n",
        "For this project, I asked my 3 roommates about their 5 favorite singer of all time.\n",
        "\n",
        "Here I created three set for each of my room mate. Set sagar will be the 5 favorite singers of him .  Set saurav will be 5 of his favorite singers and set sanjay will be his 5 favorite singers.\n",
        "\n",
        "\n",
        "---\n",
        "\n",
        "![teepublic_music-note-heartbeat-music-lover-and-musicians-teepublic_1608139330.large.png](data:image/png;base64,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)\n",
        "\n",
        "\n"
      ]
    },
    {
      "cell_type": "code",
      "metadata": {
        "id": "rU_BgC_kfH7g"
      },
      "source": [
        "#the {} define these as sets in python.[] define as a list.\n",
        "sagar = {'lilbaby', 'kodak black', 'Juice world', 'Future', 'Gunna'} \n",
        "saurav = {'post malone', 'roddy rich', 'kanya west', 'drake', 'lilbaby'}\n",
        "sanjay = {'drake', 'justin bieber', 'tyga', 'kodak black', 'lilbaby'}"
      ],
      "execution_count": null,
      "outputs": []
    },
    {
      "cell_type": "markdown",
      "metadata": {
        "id": "Iggon6VK1Vxo"
      },
      "source": [
        "\n",
        "\n",
        "My universal set $U$ would be all the singers.  \n"
      ]
    },
    {
      "cell_type": "markdown",
      "metadata": {
        "id": "W-oHYKU19sjl"
      },
      "source": [
        " **Finding Union and Intersection of the sets**\n",
        "\n",
        "In this part, I will be using pythonic structure for dealing with the sets. After this,it will be enlisted in an alphabetical order. \n",
        "\n"
      ]
    },
    {
      "cell_type": "markdown",
      "source": [
        "At first, I am doing for unions. "
      ],
      "metadata": {
        "id": "uL2OI6PBoAUv"
      }
    },
    {
      "cell_type": "code",
      "metadata": {
        "colab": {
          "base_uri": "https://localhost:8080/"
        },
        "id": "pWsppmpY9gMw",
        "outputId": "3adb9450-6ab7-4b62-d361-aa84db16bedf"
      },
      "source": [
        "sagar.union(saurav)"
      ],
      "execution_count": null,
      "outputs": [
        {
          "output_type": "execute_result",
          "data": {
            "text/plain": [
              "{'Future',\n",
              " 'Gunna',\n",
              " 'Juice world',\n",
              " 'drake',\n",
              " 'kanya west',\n",
              " 'kodak black',\n",
              " 'lilbaby',\n",
              " 'post malone',\n",
              " 'roddy rich'}"
            ]
          },
          "metadata": {},
          "execution_count": 3
        }
      ]
    },
    {
      "cell_type": "code",
      "source": [
        "sagar.union(sanjay)"
      ],
      "metadata": {
        "id": "FyhQkzgeoHsv",
        "outputId": "c69728cb-eddd-4328-cdf4-e3787abae50f",
        "colab": {
          "base_uri": "https://localhost:8080/"
        }
      },
      "execution_count": null,
      "outputs": [
        {
          "output_type": "execute_result",
          "data": {
            "text/plain": [
              "{'Future',\n",
              " 'Gunna',\n",
              " 'Juice world',\n",
              " 'drake',\n",
              " 'justin bieber',\n",
              " 'kodak black',\n",
              " 'lilbaby',\n",
              " 'tyga'}"
            ]
          },
          "metadata": {},
          "execution_count": 4
        }
      ]
    },
    {
      "cell_type": "code",
      "source": [
        "saurav.union(sanjay)"
      ],
      "metadata": {
        "id": "-6YZlRh_oRqR",
        "outputId": "c6f2092d-ee67-4afa-ad0a-d3b01516721d",
        "colab": {
          "base_uri": "https://localhost:8080/"
        }
      },
      "execution_count": null,
      "outputs": [
        {
          "output_type": "execute_result",
          "data": {
            "text/plain": [
              "{'drake',\n",
              " 'justin bieber',\n",
              " 'kanya west',\n",
              " 'kodak black',\n",
              " 'lilbaby',\n",
              " 'post malone',\n",
              " 'roddy rich',\n",
              " 'tyga'}"
            ]
          },
          "metadata": {},
          "execution_count": 5
        }
      ]
    },
    {
      "cell_type": "markdown",
      "metadata": {
        "id": "fepggJuCvS5s"
      },
      "source": [
        "Now, I am doing same for intersection. "
      ]
    },
    {
      "cell_type": "code",
      "metadata": {
        "id": "wW5pXHmgtJ-o",
        "colab": {
          "base_uri": "https://localhost:8080/"
        },
        "outputId": "1613d34e-b6e9-4996-b6ef-950420332670"
      },
      "source": [
        "sagar.intersection(saurav)"
      ],
      "execution_count": null,
      "outputs": [
        {
          "output_type": "execute_result",
          "data": {
            "text/plain": [
              "{'lilbaby'}"
            ]
          },
          "metadata": {},
          "execution_count": 6
        }
      ]
    },
    {
      "cell_type": "code",
      "source": [
        "sagar.intersection(sanjay)"
      ],
      "metadata": {
        "id": "eptlJ6zYozoX",
        "outputId": "80371b58-7ca6-41e0-f7b2-61217146a0e1",
        "colab": {
          "base_uri": "https://localhost:8080/"
        }
      },
      "execution_count": null,
      "outputs": [
        {
          "output_type": "execute_result",
          "data": {
            "text/plain": [
              "{'kodak black', 'lilbaby'}"
            ]
          },
          "metadata": {},
          "execution_count": 7
        }
      ]
    },
    {
      "cell_type": "code",
      "source": [
        "saurav.intersection(sanjay)"
      ],
      "metadata": {
        "id": "ENbfHHcUo5JC",
        "outputId": "ae52f31f-bca3-43ac-dcc8-aa2ce33ab3c7",
        "colab": {
          "base_uri": "https://localhost:8080/"
        }
      },
      "execution_count": null,
      "outputs": [
        {
          "output_type": "execute_result",
          "data": {
            "text/plain": [
              "{'drake', 'lilbaby'}"
            ]
          },
          "metadata": {},
          "execution_count": 8
        }
      ]
    },
    {
      "cell_type": "markdown",
      "metadata": {
        "id": "MO9Kdw6QWGxP"
      },
      "source": [
        " I got the same result as I expected. "
      ]
    },
    {
      "cell_type": "markdown",
      "metadata": {
        "id": "R3Tp5wg3WgZj"
      },
      "source": [
        "I am using for loop in here to develop the universal set.  "
      ]
    },
    {
      "cell_type": "code",
      "metadata": {
        "id": "XeLl2OC6uGea",
        "colab": {
          "base_uri": "https://localhost:8080/"
        },
        "outputId": "16beb66f-c976-4108-a554-2df59f8cd05e"
      },
      "source": [
        "SetofSets = [sagar,saurav,sanjay]\n",
        "U = set() #you have to initialize a set as set() not {}, python thinks the later is a dictionary Module2.\n",
        "for myset in SetofSets:\n",
        "  U = U.union(myset)\n",
        "\n",
        "U"
      ],
      "execution_count": null,
      "outputs": [
        {
          "output_type": "execute_result",
          "data": {
            "text/plain": [
              "{'Future',\n",
              " 'Gunna',\n",
              " 'Juice world',\n",
              " 'drake',\n",
              " 'justin bieber',\n",
              " 'kanya west',\n",
              " 'kodak black',\n",
              " 'lilbaby',\n",
              " 'post malone',\n",
              " 'roddy rich',\n",
              " 'tyga'}"
            ]
          },
          "metadata": {},
          "execution_count": 9
        }
      ]
    },
    {
      "cell_type": "markdown",
      "metadata": {
        "id": "dPss0UMjXlJX"
      },
      "source": [
        "I am going to add my favorite singers as a newset."
      ]
    },
    {
      "cell_type": "code",
      "metadata": {
        "id": "jJunB-FKuwNC"
      },
      "source": [
        "newset = {'Gunna', 'Future', 'Drake', 'J cole', 'lilbaby'}\n",
        "\n",
        "U = U.union(newset)\n",
        "\n"
      ],
      "execution_count": null,
      "outputs": []
    },
    {
      "cell_type": "markdown",
      "metadata": {
        "id": "iktL7sDFvfOE"
      },
      "source": [
        "**Finding Compliments**\n",
        "\n",
        " In this section, I am going to find out the complement of each sets.\n",
        "\n"
      ]
    },
    {
      "cell_type": "code",
      "metadata": {
        "id": "i9G8k8gsvng2",
        "colab": {
          "base_uri": "https://localhost:8080/"
        },
        "outputId": "4f16a02c-9c0b-4ae4-fbdb-6d90c47f6a57"
      },
      "source": [
        "U - sagar"
      ],
      "execution_count": null,
      "outputs": [
        {
          "output_type": "execute_result",
          "data": {
            "text/plain": [
              "{'Drake',\n",
              " 'J cole',\n",
              " 'drake',\n",
              " 'justin bieber',\n",
              " 'kanya west',\n",
              " 'post malone',\n",
              " 'roddy rich',\n",
              " 'tyga'}"
            ]
          },
          "metadata": {},
          "execution_count": 11
        }
      ]
    },
    {
      "cell_type": "code",
      "source": [
        "U - saurav"
      ],
      "metadata": {
        "id": "KVUGpGcaqkmN",
        "outputId": "10557a05-0700-4a18-8036-97368cbf37ed",
        "colab": {
          "base_uri": "https://localhost:8080/"
        }
      },
      "execution_count": null,
      "outputs": [
        {
          "output_type": "execute_result",
          "data": {
            "text/plain": [
              "{'Drake',\n",
              " 'Future',\n",
              " 'Gunna',\n",
              " 'J cole',\n",
              " 'Juice world',\n",
              " 'justin bieber',\n",
              " 'kodak black',\n",
              " 'tyga'}"
            ]
          },
          "metadata": {},
          "execution_count": 12
        }
      ]
    },
    {
      "cell_type": "code",
      "source": [
        "U - sanjay"
      ],
      "metadata": {
        "id": "qfkXeTPZqpKH",
        "outputId": "3a07caf9-4e9f-404e-9782-a963dbc124e9",
        "colab": {
          "base_uri": "https://localhost:8080/"
        }
      },
      "execution_count": null,
      "outputs": [
        {
          "output_type": "execute_result",
          "data": {
            "text/plain": [
              "{'Drake',\n",
              " 'Future',\n",
              " 'Gunna',\n",
              " 'J cole',\n",
              " 'Juice world',\n",
              " 'kanya west',\n",
              " 'post malone',\n",
              " 'roddy rich'}"
            ]
          },
          "metadata": {},
          "execution_count": 13
        }
      ]
    },
    {
      "cell_type": "markdown",
      "metadata": {
        "id": "ATQCDgVcv92I"
      },
      "source": [
        "In this portion of the project, I am curious to find out the left over elements. \n"
      ]
    },
    {
      "cell_type": "code",
      "source": [
        "U - sagar.union(sanjay)"
      ],
      "metadata": {
        "id": "Hcj6uClqrTX3",
        "outputId": "24276348-440f-42eb-eabd-6987c05dc043",
        "colab": {
          "base_uri": "https://localhost:8080/"
        }
      },
      "execution_count": null,
      "outputs": [
        {
          "output_type": "execute_result",
          "data": {
            "text/plain": [
              "{'Drake', 'J cole', 'kanya west', 'post malone', 'roddy rich'}"
            ]
          },
          "metadata": {},
          "execution_count": 14
        }
      ]
    },
    {
      "cell_type": "markdown",
      "source": [
        "Here I found out something different result."
      ],
      "metadata": {
        "id": "Cy4OuSExrcrd"
      }
    },
    {
      "cell_type": "markdown",
      "metadata": {
        "id": "0JDlJgE7ZFhk"
      },
      "source": [
        "**Finding Powersets**\n",
        "\n",
        "I am finding out a power set for set A."
      ]
    },
    {
      "cell_type": "markdown",
      "metadata": {
        "id": "Mvv6ENoX35Xi"
      },
      "source": [
        ""
      ]
    },
    {
      "cell_type": "code",
      "metadata": {
        "id": "nqn99nTKys3b"
      },
      "source": [
        "def DPpowerset(s):\n",
        "  powerset = [[]]\n",
        "  for i in s:\n",
        "    for sett in powerset:\n",
        "      powerset = powerset + [sett + [i]]\n",
        "  return powerset\n",
        "\n",
        "\n"
      ],
      "execution_count": null,
      "outputs": []
    },
    {
      "cell_type": "code",
      "metadata": {
        "id": "8g-p9uha2llN",
        "colab": {
          "base_uri": "https://localhost:8080/"
        },
        "outputId": "7d6f0c9c-c4d4-4cb6-e9f5-205ffeeee0ee"
      },
      "source": [
        "DPpowerset(sagar)"
      ],
      "execution_count": null,
      "outputs": [
        {
          "output_type": "execute_result",
          "data": {
            "text/plain": [
              "[[],\n",
              " ['Gunna'],\n",
              " ['Future'],\n",
              " ['Gunna', 'Future'],\n",
              " ['lilbaby'],\n",
              " ['Gunna', 'lilbaby'],\n",
              " ['Future', 'lilbaby'],\n",
              " ['Gunna', 'Future', 'lilbaby'],\n",
              " ['Juice world'],\n",
              " ['Gunna', 'Juice world'],\n",
              " ['Future', 'Juice world'],\n",
              " ['Gunna', 'Future', 'Juice world'],\n",
              " ['lilbaby', 'Juice world'],\n",
              " ['Gunna', 'lilbaby', 'Juice world'],\n",
              " ['Future', 'lilbaby', 'Juice world'],\n",
              " ['Gunna', 'Future', 'lilbaby', 'Juice world'],\n",
              " ['kodak black'],\n",
              " ['Gunna', 'kodak black'],\n",
              " ['Future', 'kodak black'],\n",
              " ['Gunna', 'Future', 'kodak black'],\n",
              " ['lilbaby', 'kodak black'],\n",
              " ['Gunna', 'lilbaby', 'kodak black'],\n",
              " ['Future', 'lilbaby', 'kodak black'],\n",
              " ['Gunna', 'Future', 'lilbaby', 'kodak black'],\n",
              " ['Juice world', 'kodak black'],\n",
              " ['Gunna', 'Juice world', 'kodak black'],\n",
              " ['Future', 'Juice world', 'kodak black'],\n",
              " ['Gunna', 'Future', 'Juice world', 'kodak black'],\n",
              " ['lilbaby', 'Juice world', 'kodak black'],\n",
              " ['Gunna', 'lilbaby', 'Juice world', 'kodak black'],\n",
              " ['Future', 'lilbaby', 'Juice world', 'kodak black'],\n",
              " ['Gunna', 'Future', 'lilbaby', 'Juice world', 'kodak black']]"
            ]
          },
          "metadata": {},
          "execution_count": 18
        }
      ]
    },
    {
      "cell_type": "markdown",
      "source": [
        "Finding out the total number of elements in  U as: \n",
        "\n"
      ],
      "metadata": {
        "id": "b6PMajOutP82"
      }
    },
    {
      "cell_type": "code",
      "source": [
        "n =len(U)\n",
        "print(n)"
      ],
      "metadata": {
        "id": "Ze6CEf02tk4h",
        "outputId": "deb044c4-7868-4132-b9bb-1592798e7001",
        "colab": {
          "base_uri": "https://localhost:8080/"
        }
      },
      "execution_count": null,
      "outputs": [
        {
          "output_type": "stream",
          "name": "stdout",
          "text": [
            "13\n"
          ]
        }
      ]
    },
    {
      "cell_type": "markdown",
      "source": [
        "Finding out total number of elements in the powerset of U as:"
      ],
      "metadata": {
        "id": "0Fr0XYF8ttDp"
      }
    },
    {
      "cell_type": "code",
      "source": [
        "2**n"
      ],
      "metadata": {
        "id": "CnYwObjxuCTY",
        "outputId": "5708da4b-67f6-4d71-cfe6-846e38b8a575",
        "colab": {
          "base_uri": "https://localhost:8080/"
        }
      },
      "execution_count": null,
      "outputs": [
        {
          "output_type": "execute_result",
          "data": {
            "text/plain": [
              "8192"
            ]
          },
          "metadata": {},
          "execution_count": 21
        }
      ]
    },
    {
      "cell_type": "markdown",
      "metadata": {
        "id": "SQSH-fFYwNls"
      },
      "source": [
        "After the calculation, I found out there are 13 number of elements in U and 8192 number of elements in the powerset of U."
      ]
    },
    {
      "cell_type": "markdown",
      "source": [
        "**Finding Subsets**\n",
        "\n"
      ],
      "metadata": {
        "id": "fybBn4_gueYZ"
      }
    },
    {
      "cell_type": "markdown",
      "metadata": {
        "id": "zqwIp4U9Di75"
      },
      "source": [
        "In this portion of the project. "
      ]
    },
    {
      "cell_type": "code",
      "metadata": {
        "colab": {
          "base_uri": "https://localhost:8080/"
        },
        "id": "yXoW9P_MDigU",
        "outputId": "52f9547d-dc84-46b7-df60-95b1727efbc2"
      },
      "source": [
        "def IsASubset(A,B):\n",
        "  for a in A:\n",
        "    if a not in B:\n",
        "      return False\n",
        "  return True\n",
        "\n",
        "IsASubset(sagar,saurav)"
      ],
      "execution_count": null,
      "outputs": [
        {
          "output_type": "execute_result",
          "data": {
            "text/plain": [
              "False"
            ]
          },
          "metadata": {},
          "execution_count": 23
        }
      ]
    },
    {
      "cell_type": "code",
      "source": [
        "IsASubset(sagar,sanjay)"
      ],
      "metadata": {
        "id": "1Ra4bMPUvIu0",
        "outputId": "08839ede-95d6-4ebf-8d22-1e99d3a87a22",
        "colab": {
          "base_uri": "https://localhost:8080/"
        }
      },
      "execution_count": null,
      "outputs": [
        {
          "output_type": "execute_result",
          "data": {
            "text/plain": [
              "False"
            ]
          },
          "metadata": {},
          "execution_count": 24
        }
      ]
    },
    {
      "cell_type": "code",
      "source": [
        "IsASubset(sanjay,saurav)"
      ],
      "metadata": {
        "id": "j2ITzpD3vUYc",
        "outputId": "18d6f145-f08a-4017-a2c2-9b955fa27890",
        "colab": {
          "base_uri": "https://localhost:8080/"
        }
      },
      "execution_count": null,
      "outputs": [
        {
          "output_type": "execute_result",
          "data": {
            "text/plain": [
              "False"
            ]
          },
          "metadata": {},
          "execution_count": 25
        }
      ]
    },
    {
      "cell_type": "code",
      "source": [
        "IsASubset(sagar,sagar)"
      ],
      "metadata": {
        "id": "lX0327LvvZzU",
        "outputId": "57ed7d4d-f287-4bcc-ec40-af639049753c",
        "colab": {
          "base_uri": "https://localhost:8080/"
        }
      },
      "execution_count": null,
      "outputs": [
        {
          "output_type": "execute_result",
          "data": {
            "text/plain": [
              "True"
            ]
          },
          "metadata": {},
          "execution_count": 26
        }
      ]
    },
    {
      "cell_type": "code",
      "source": [
        "IsASubset(saurav,saurav)"
      ],
      "metadata": {
        "id": "Mv56wJgHviib",
        "outputId": "e3f1ff21-357e-45e5-e09f-26b841c92c70",
        "colab": {
          "base_uri": "https://localhost:8080/"
        }
      },
      "execution_count": null,
      "outputs": [
        {
          "output_type": "execute_result",
          "data": {
            "text/plain": [
              "True"
            ]
          },
          "metadata": {},
          "execution_count": 27
        }
      ]
    },
    {
      "cell_type": "code",
      "source": [
        "IsASubset(sanjay,sanjay)"
      ],
      "metadata": {
        "id": "wPrvSdeNvnR2",
        "outputId": "e238bcc3-19a4-4309-b132-5021d72b037e",
        "colab": {
          "base_uri": "https://localhost:8080/"
        }
      },
      "execution_count": null,
      "outputs": [
        {
          "output_type": "execute_result",
          "data": {
            "text/plain": [
              "True"
            ]
          },
          "metadata": {},
          "execution_count": 28
        }
      ]
    },
    {
      "cell_type": "code",
      "source": [
        "IsASubset(sagar,U)"
      ],
      "metadata": {
        "id": "nFEppsTfvuAS",
        "outputId": "aed655dc-c80b-43c4-9568-4fbfd111c19e",
        "colab": {
          "base_uri": "https://localhost:8080/"
        }
      },
      "execution_count": null,
      "outputs": [
        {
          "output_type": "execute_result",
          "data": {
            "text/plain": [
              "True"
            ]
          },
          "metadata": {},
          "execution_count": 29
        }
      ]
    },
    {
      "cell_type": "code",
      "source": [
        "IsASubset(saurav,U)"
      ],
      "metadata": {
        "id": "nX8E9kmnvya1",
        "outputId": "a9551954-f902-449b-f5d3-bf90ea559714",
        "colab": {
          "base_uri": "https://localhost:8080/"
        }
      },
      "execution_count": null,
      "outputs": [
        {
          "output_type": "execute_result",
          "data": {
            "text/plain": [
              "True"
            ]
          },
          "metadata": {},
          "execution_count": 30
        }
      ]
    },
    {
      "cell_type": "code",
      "source": [
        "IsASubset(sanjay,U)"
      ],
      "metadata": {
        "id": "2q43A8iMv1iT",
        "outputId": "cabd158a-e177-4f7b-b6a0-6ceee96ccb78",
        "colab": {
          "base_uri": "https://localhost:8080/"
        }
      },
      "execution_count": null,
      "outputs": [
        {
          "output_type": "execute_result",
          "data": {
            "text/plain": [
              "True"
            ]
          },
          "metadata": {},
          "execution_count": 31
        }
      ]
    },
    {
      "cell_type": "code",
      "source": [
        "IsASubset(U,U)"
      ],
      "metadata": {
        "id": "qK5Ezrlgv4rl",
        "outputId": "443dbff8-4ad1-4a39-b4ae-cb7287d1f1d5",
        "colab": {
          "base_uri": "https://localhost:8080/"
        }
      },
      "execution_count": null,
      "outputs": [
        {
          "output_type": "execute_result",
          "data": {
            "text/plain": [
              "True"
            ]
          },
          "metadata": {},
          "execution_count": 32
        }
      ]
    },
    {
      "cell_type": "code",
      "source": [
        "IsASubset(U,sagar)"
      ],
      "metadata": {
        "id": "ESYJySDwv7tM",
        "outputId": "13dcbc5e-8b42-4dd3-b5ca-9156be257ccf",
        "colab": {
          "base_uri": "https://localhost:8080/"
        }
      },
      "execution_count": null,
      "outputs": [
        {
          "output_type": "execute_result",
          "data": {
            "text/plain": [
              "False"
            ]
          },
          "metadata": {},
          "execution_count": 33
        }
      ]
    },
    {
      "cell_type": "code",
      "source": [
        "IsASubset(U,saurav)"
      ],
      "metadata": {
        "id": "IUwbazUywDks",
        "outputId": "8911798b-191d-4212-aed8-3dd1fba4729a",
        "colab": {
          "base_uri": "https://localhost:8080/"
        }
      },
      "execution_count": null,
      "outputs": [
        {
          "output_type": "execute_result",
          "data": {
            "text/plain": [
              "False"
            ]
          },
          "metadata": {},
          "execution_count": 34
        }
      ]
    },
    {
      "cell_type": "code",
      "source": [
        "IsASubset(U,sanjay)"
      ],
      "metadata": {
        "id": "43cbaAbiwGSB",
        "outputId": "ac0ab9d9-f7b2-4aad-bc2b-bf42f669493a",
        "colab": {
          "base_uri": "https://localhost:8080/"
        }
      },
      "execution_count": null,
      "outputs": [
        {
          "output_type": "execute_result",
          "data": {
            "text/plain": [
              "False"
            ]
          },
          "metadata": {},
          "execution_count": 35
        }
      ]
    },
    {
      "cell_type": "markdown",
      "metadata": {
        "id": "Uauz1wnkZiec"
      },
      "source": [
        "**Conclusion**\n",
        "\n",
        "From the above calculation, I found out there are seven subsets in my given sets. "
      ]
    }
  ]
}