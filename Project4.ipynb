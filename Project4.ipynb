{
  "nbformat": 4,
  "nbformat_minor": 0,
  "metadata": {
    "colab": {
      "name": "Project4.ipynb",
      "provenance": [],
      "authorship_tag": "ABX9TyNtLFEHVVwOyauUtrqvoFy8",
      "include_colab_link": true
    },
    "kernelspec": {
      "name": "python3",
      "display_name": "Python 3"
    },
    "language_info": {
      "name": "python"
    }
  },
  "cells": [
    {
      "cell_type": "markdown",
      "metadata": {
        "id": "view-in-github",
        "colab_type": "text"
      },
      "source": [
        "<a href=\"https://colab.research.google.com/github/fcbculey/Discrete_Math/blob/master/Project4.ipynb\" target=\"_parent\"><img src=\"https://colab.research.google.com/assets/colab-badge.svg\" alt=\"Open In Colab\"/></a>"
      ]
    },
    {
      "cell_type": "markdown",
      "source": [
        "#Discrete Mathematics [CPSMA-3913]\n",
        "\n",
        "## Project : Counting\n",
        "\n",
        "## Prof. Dr. Jacob\n",
        "\n",
        "## Kuldeep Gautam[274153]\n"
      ],
      "metadata": {
        "id": "kjNV74ITcKE4"
      }
    },
    {
      "cell_type": "markdown",
      "source": [
        "#COUNTING"
      ],
      "metadata": {
        "id": "KNIbyJTmcif7"
      }
    },
    {
      "cell_type": "markdown",
      "source": [
        "In this project, I am going to use the same data from my previous project where it was between two soccer fans decided to flip the coin to see who is going to win, lose or chances of playing draw.\n",
        "\n",
        " ![download.png](data:image/png;base64,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)\n",
        "\n",
        "\n",
        " I have 3 possible outcomes while fliping the coin. "
      ],
      "metadata": {
        "id": "wPY5Z9WXdeUk"
      }
    },
    {
      "cell_type": "code",
      "execution_count": 4,
      "metadata": {
        "id": "HWgYsAP9cGPu"
      },
      "outputs": [],
      "source": [
        "Rollings = ['draw','loose','win']"
      ]
    },
    {
      "cell_type": "markdown",
      "source": [
        "I am going to flip it 10 times. \n",
        "\n",
        "$$ 3*3*3*3...*3 =3^{10} $$\n",
        "\n"
      ],
      "metadata": {
        "id": "x7DGCzcpJhlz"
      }
    },
    {
      "cell_type": "code",
      "source": [
        "3**10"
      ],
      "metadata": {
        "colab": {
          "base_uri": "https://localhost:8080/"
        },
        "id": "MkkvQdBNKbSE",
        "outputId": "28f13b9f-70bd-467d-c172-57b6b034dbd4"
      },
      "execution_count": 5,
      "outputs": [
        {
          "output_type": "execute_result",
          "data": {
            "text/plain": [
              "59049"
            ]
          },
          "metadata": {},
          "execution_count": 5
        }
      ]
    },
    {
      "cell_type": "markdown",
      "source": [
        "This part of the project is if incase our order didn't match. \n",
        "\n",
        "Here,We are asked for 20 outcomes and fliping our coin for 10 times. "
      ],
      "metadata": {
        "id": "5sNABY7CKnMW"
      }
    },
    {
      "cell_type": "code",
      "source": [
        "import math\n",
        "\n",
        "math.factorial(20)/(math.factorial(10)*math.factorial(10))"
      ],
      "metadata": {
        "colab": {
          "base_uri": "https://localhost:8080/"
        },
        "id": "FIB9b8SqKnrs",
        "outputId": "e16cc9f5-c9d7-4d7c-b6a7-f0698666fa18"
      },
      "execution_count": 6,
      "outputs": [
        {
          "output_type": "execute_result",
          "data": {
            "text/plain": [
              "184756.0"
            ]
          },
          "metadata": {},
          "execution_count": 6
        }
      ]
    },
    {
      "cell_type": "markdown",
      "source": [
        "Finding out the possible outcomes from our three options,i.e. win,lose, and draw."
      ],
      "metadata": {
        "id": "D4yYrICeKrV8"
      }
    },
    {
      "cell_type": "code",
      "source": [
        "from itertools import combinations_with_replacement\n",
        "\n",
        "print(list(combinations_with_replacement(Rollings,10)))"
      ],
      "metadata": {
        "colab": {
          "base_uri": "https://localhost:8080/"
        },
        "id": "D4xBKGKAKry8",
        "outputId": "b9047152-0230-4f10-b5a5-d30b45a18831"
      },
      "execution_count": 7,
      "outputs": [
        {
          "output_type": "stream",
          "name": "stdout",
          "text": [
            "[('draw', 'draw', 'draw', 'draw', 'draw', 'draw', 'draw', 'draw', 'draw', 'draw'), ('draw', 'draw', 'draw', 'draw', 'draw', 'draw', 'draw', 'draw', 'draw', 'loose'), ('draw', 'draw', 'draw', 'draw', 'draw', 'draw', 'draw', 'draw', 'draw', 'win'), ('draw', 'draw', 'draw', 'draw', 'draw', 'draw', 'draw', 'draw', 'loose', 'loose'), ('draw', 'draw', 'draw', 'draw', 'draw', 'draw', 'draw', 'draw', 'loose', 'win'), ('draw', 'draw', 'draw', 'draw', 'draw', 'draw', 'draw', 'draw', 'win', 'win'), ('draw', 'draw', 'draw', 'draw', 'draw', 'draw', 'draw', 'loose', 'loose', 'loose'), ('draw', 'draw', 'draw', 'draw', 'draw', 'draw', 'draw', 'loose', 'loose', 'win'), ('draw', 'draw', 'draw', 'draw', 'draw', 'draw', 'draw', 'loose', 'win', 'win'), ('draw', 'draw', 'draw', 'draw', 'draw', 'draw', 'draw', 'win', 'win', 'win'), ('draw', 'draw', 'draw', 'draw', 'draw', 'draw', 'loose', 'loose', 'loose', 'loose'), ('draw', 'draw', 'draw', 'draw', 'draw', 'draw', 'loose', 'loose', 'loose', 'win'), ('draw', 'draw', 'draw', 'draw', 'draw', 'draw', 'loose', 'loose', 'win', 'win'), ('draw', 'draw', 'draw', 'draw', 'draw', 'draw', 'loose', 'win', 'win', 'win'), ('draw', 'draw', 'draw', 'draw', 'draw', 'draw', 'win', 'win', 'win', 'win'), ('draw', 'draw', 'draw', 'draw', 'draw', 'loose', 'loose', 'loose', 'loose', 'loose'), ('draw', 'draw', 'draw', 'draw', 'draw', 'loose', 'loose', 'loose', 'loose', 'win'), ('draw', 'draw', 'draw', 'draw', 'draw', 'loose', 'loose', 'loose', 'win', 'win'), ('draw', 'draw', 'draw', 'draw', 'draw', 'loose', 'loose', 'win', 'win', 'win'), ('draw', 'draw', 'draw', 'draw', 'draw', 'loose', 'win', 'win', 'win', 'win'), ('draw', 'draw', 'draw', 'draw', 'draw', 'win', 'win', 'win', 'win', 'win'), ('draw', 'draw', 'draw', 'draw', 'loose', 'loose', 'loose', 'loose', 'loose', 'loose'), ('draw', 'draw', 'draw', 'draw', 'loose', 'loose', 'loose', 'loose', 'loose', 'win'), ('draw', 'draw', 'draw', 'draw', 'loose', 'loose', 'loose', 'loose', 'win', 'win'), ('draw', 'draw', 'draw', 'draw', 'loose', 'loose', 'loose', 'win', 'win', 'win'), ('draw', 'draw', 'draw', 'draw', 'loose', 'loose', 'win', 'win', 'win', 'win'), ('draw', 'draw', 'draw', 'draw', 'loose', 'win', 'win', 'win', 'win', 'win'), ('draw', 'draw', 'draw', 'draw', 'win', 'win', 'win', 'win', 'win', 'win'), ('draw', 'draw', 'draw', 'loose', 'loose', 'loose', 'loose', 'loose', 'loose', 'loose'), ('draw', 'draw', 'draw', 'loose', 'loose', 'loose', 'loose', 'loose', 'loose', 'win'), ('draw', 'draw', 'draw', 'loose', 'loose', 'loose', 'loose', 'loose', 'win', 'win'), ('draw', 'draw', 'draw', 'loose', 'loose', 'loose', 'loose', 'win', 'win', 'win'), ('draw', 'draw', 'draw', 'loose', 'loose', 'loose', 'win', 'win', 'win', 'win'), ('draw', 'draw', 'draw', 'loose', 'loose', 'win', 'win', 'win', 'win', 'win'), ('draw', 'draw', 'draw', 'loose', 'win', 'win', 'win', 'win', 'win', 'win'), ('draw', 'draw', 'draw', 'win', 'win', 'win', 'win', 'win', 'win', 'win'), ('draw', 'draw', 'loose', 'loose', 'loose', 'loose', 'loose', 'loose', 'loose', 'loose'), ('draw', 'draw', 'loose', 'loose', 'loose', 'loose', 'loose', 'loose', 'loose', 'win'), ('draw', 'draw', 'loose', 'loose', 'loose', 'loose', 'loose', 'loose', 'win', 'win'), ('draw', 'draw', 'loose', 'loose', 'loose', 'loose', 'loose', 'win', 'win', 'win'), ('draw', 'draw', 'loose', 'loose', 'loose', 'loose', 'win', 'win', 'win', 'win'), ('draw', 'draw', 'loose', 'loose', 'loose', 'win', 'win', 'win', 'win', 'win'), ('draw', 'draw', 'loose', 'loose', 'win', 'win', 'win', 'win', 'win', 'win'), ('draw', 'draw', 'loose', 'win', 'win', 'win', 'win', 'win', 'win', 'win'), ('draw', 'draw', 'win', 'win', 'win', 'win', 'win', 'win', 'win', 'win'), ('draw', 'loose', 'loose', 'loose', 'loose', 'loose', 'loose', 'loose', 'loose', 'loose'), ('draw', 'loose', 'loose', 'loose', 'loose', 'loose', 'loose', 'loose', 'loose', 'win'), ('draw', 'loose', 'loose', 'loose', 'loose', 'loose', 'loose', 'loose', 'win', 'win'), ('draw', 'loose', 'loose', 'loose', 'loose', 'loose', 'loose', 'win', 'win', 'win'), ('draw', 'loose', 'loose', 'loose', 'loose', 'loose', 'win', 'win', 'win', 'win'), ('draw', 'loose', 'loose', 'loose', 'loose', 'win', 'win', 'win', 'win', 'win'), ('draw', 'loose', 'loose', 'loose', 'win', 'win', 'win', 'win', 'win', 'win'), ('draw', 'loose', 'loose', 'win', 'win', 'win', 'win', 'win', 'win', 'win'), ('draw', 'loose', 'win', 'win', 'win', 'win', 'win', 'win', 'win', 'win'), ('draw', 'win', 'win', 'win', 'win', 'win', 'win', 'win', 'win', 'win'), ('loose', 'loose', 'loose', 'loose', 'loose', 'loose', 'loose', 'loose', 'loose', 'loose'), ('loose', 'loose', 'loose', 'loose', 'loose', 'loose', 'loose', 'loose', 'loose', 'win'), ('loose', 'loose', 'loose', 'loose', 'loose', 'loose', 'loose', 'loose', 'win', 'win'), ('loose', 'loose', 'loose', 'loose', 'loose', 'loose', 'loose', 'win', 'win', 'win'), ('loose', 'loose', 'loose', 'loose', 'loose', 'loose', 'win', 'win', 'win', 'win'), ('loose', 'loose', 'loose', 'loose', 'loose', 'win', 'win', 'win', 'win', 'win'), ('loose', 'loose', 'loose', 'loose', 'win', 'win', 'win', 'win', 'win', 'win'), ('loose', 'loose', 'loose', 'win', 'win', 'win', 'win', 'win', 'win', 'win'), ('loose', 'loose', 'win', 'win', 'win', 'win', 'win', 'win', 'win', 'win'), ('loose', 'win', 'win', 'win', 'win', 'win', 'win', 'win', 'win', 'win'), ('win', 'win', 'win', 'win', 'win', 'win', 'win', 'win', 'win', 'win')]\n"
          ]
        }
      ]
    },
    {
      "cell_type": "markdown",
      "source": [
        "Finding length of the outcomes."
      ],
      "metadata": {
        "id": "mmPmtuJVaSaD"
      }
    },
    {
      "cell_type": "code",
      "source": [
        "len(list(combinations_with_replacement(Rollings,10)))"
      ],
      "metadata": {
        "colab": {
          "base_uri": "https://localhost:8080/"
        },
        "id": "-5ZQpaWUaS0g",
        "outputId": "64c753f0-aa37-4ea2-e7b6-f32d6c3c228a"
      },
      "execution_count": 8,
      "outputs": [
        {
          "output_type": "execute_result",
          "data": {
            "text/plain": [
              "66"
            ]
          },
          "metadata": {},
          "execution_count": 8
        }
      ]
    },
    {
      "cell_type": "markdown",
      "source": [
        "#WITHOUT REPLACEMENT\n"
      ],
      "metadata": {
        "id": "IyoK6oyubsZH"
      }
    },
    {
      "cell_type": "markdown",
      "source": [
        "When the order matters in our case.i.e. 3! "
      ],
      "metadata": {
        "id": "GcOhca8b4aDm"
      }
    },
    {
      "cell_type": "code",
      "source": [
        "print(math.factorial(3))"
      ],
      "metadata": {
        "id": "y-uyDjONbxxL",
        "colab": {
          "base_uri": "https://localhost:8080/"
        },
        "outputId": "11f9d6fc-1c00-4580-d715-fdfb712ca75c"
      },
      "execution_count": 9,
      "outputs": [
        {
          "output_type": "stream",
          "name": "stdout",
          "text": [
            "6\n"
          ]
        }
      ]
    },
    {
      "cell_type": "markdown",
      "source": [
        "Printing out all the generated outcomes."
      ],
      "metadata": {
        "id": "t48nu89wTw88"
      }
    },
    {
      "cell_type": "code",
      "source": [
        "from itertools import permutations\n",
        "print(list(permutations(Rollings,3)))"
      ],
      "metadata": {
        "colab": {
          "base_uri": "https://localhost:8080/"
        },
        "id": "IJ3T7vJwTxuG",
        "outputId": "5173561d-ed52-4c3e-ff58-361d0d642e42"
      },
      "execution_count": 10,
      "outputs": [
        {
          "output_type": "stream",
          "name": "stdout",
          "text": [
            "[('draw', 'loose', 'win'), ('draw', 'win', 'loose'), ('loose', 'draw', 'win'), ('loose', 'win', 'draw'), ('win', 'draw', 'loose'), ('win', 'loose', 'draw')]\n"
          ]
        }
      ]
    },
    {
      "cell_type": "markdown",
      "source": [
        "IF ORDER DOESN'T MATTER."
      ],
      "metadata": {
        "id": "40Wr-FxjT33B"
      }
    },
    {
      "cell_type": "code",
      "source": [
        "math.factorial(3)/(math.factorial(0)*math.factorial(3))"
      ],
      "metadata": {
        "colab": {
          "base_uri": "https://localhost:8080/"
        },
        "id": "CVkBUUdkT7-f",
        "outputId": "d49bfe17-9f20-4741-b52f-efeb6b55950f"
      },
      "execution_count": 11,
      "outputs": [
        {
          "output_type": "execute_result",
          "data": {
            "text/plain": [
              "1.0"
            ]
          },
          "metadata": {},
          "execution_count": 11
        }
      ]
    },
    {
      "cell_type": "markdown",
      "source": [
        "OUTCOMES"
      ],
      "metadata": {
        "id": "tqRKQUClUFH-"
      }
    },
    {
      "cell_type": "code",
      "source": [
        "from itertools import combinations\n",
        "print(list(combinations(Rollings,3)))"
      ],
      "metadata": {
        "colab": {
          "base_uri": "https://localhost:8080/"
        },
        "id": "pv8tie6XUIYd",
        "outputId": "f2a5a516-d087-4800-d0b2-500c0cfbc149"
      },
      "execution_count": 12,
      "outputs": [
        {
          "output_type": "stream",
          "name": "stdout",
          "text": [
            "[('draw', 'loose', 'win')]\n"
          ]
        }
      ]
    },
    {
      "cell_type": "markdown",
      "source": [
        "# FINDING 5th ORDER OF EXPRESSION"
      ],
      "metadata": {
        "id": "lTTfUR0e5nYI"
      }
    },
    {
      "cell_type": "markdown",
      "source": [
        "In this part of the project, the given expression is:\n",
        "\n",
        "$$\n",
        "{{(x-3)}^9}\n",
        "$$\n",
        "\n",
        "Firstly, I am doing for 9 choose 5.i.e. 9C5"
      ],
      "metadata": {
        "id": "Vc44WvyL5ucS"
      }
    },
    {
      "cell_type": "code",
      "source": [
        "value1 = math.factorial(9)/((math.factorial(9-5))*math.factorial(5))"
      ],
      "metadata": {
        "id": "cIubopTx57i3"
      },
      "execution_count": 21,
      "outputs": []
    },
    {
      "cell_type": "code",
      "source": [
        "value1\n"
      ],
      "metadata": {
        "colab": {
          "base_uri": "https://localhost:8080/"
        },
        "id": "CkOKG5pUdrrX",
        "outputId": "54da3811-c4a5-448a-ee00-5806b0ce761b"
      },
      "execution_count": 22,
      "outputs": [
        {
          "output_type": "execute_result",
          "data": {
            "text/plain": [
              "126.0"
            ]
          },
          "metadata": {},
          "execution_count": 22
        }
      ]
    },
    {
      "cell_type": "markdown",
      "source": [
        "Now, for remaining expression. i.e. \n",
        "\n",
        "$$\n",
        "(x)^4\n",
        "$$\n",
        "\n",
        "we know that, x = -3"
      ],
      "metadata": {
        "id": "g_iFmXONeFJg"
      }
    },
    {
      "cell_type": "code",
      "source": [
        "\n",
        "\n",
        "value2 =  (-3)**4"
      ],
      "metadata": {
        "id": "bzG6B22zemVc"
      },
      "execution_count": 38,
      "outputs": []
    },
    {
      "cell_type": "code",
      "source": [
        "value2"
      ],
      "metadata": {
        "colab": {
          "base_uri": "https://localhost:8080/"
        },
        "id": "4u3j4M_Vfoub",
        "outputId": "69669d9f-2de3-4dd9-8c6c-fd9a6a5c4fb8"
      },
      "execution_count": 39,
      "outputs": [
        {
          "output_type": "execute_result",
          "data": {
            "text/plain": [
              "81"
            ]
          },
          "metadata": {},
          "execution_count": 39
        }
      ]
    },
    {
      "cell_type": "code",
      "source": [
        "order = value1 * value2"
      ],
      "metadata": {
        "id": "Lj1KNVBWhcPw"
      },
      "execution_count": 40,
      "outputs": []
    },
    {
      "cell_type": "code",
      "source": [
        "order"
      ],
      "metadata": {
        "colab": {
          "base_uri": "https://localhost:8080/"
        },
        "id": "CMfvaYm-hiAR",
        "outputId": "f19ee0a7-208a-4683-d12f-22aa46f3964b"
      },
      "execution_count": 41,
      "outputs": [
        {
          "output_type": "execute_result",
          "data": {
            "text/plain": [
              "10206.0"
            ]
          },
          "metadata": {},
          "execution_count": 41
        }
      ]
    },
    {
      "cell_type": "markdown",
      "source": [
        "#FINDINGS\n"
      ],
      "metadata": {
        "id": "5RjCO6GohkZ-"
      }
    },
    {
      "cell_type": "markdown",
      "source": [
        "In my personal opinion,this project is time consuming and difficult in finding the proper value.   \n",
        "\n",
        "I got the similar result using hand method as well as from coding.So,I prefer posting it through coding. \n",
        "\n"
      ],
      "metadata": {
        "id": "lg3X4XuNh64B"
      }
    }
  ]
}