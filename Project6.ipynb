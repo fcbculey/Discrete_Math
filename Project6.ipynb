{
  "nbformat": 4,
  "nbformat_minor": 0,
  "metadata": {
    "colab": {
      "name": "Project6.ipynb",
      "provenance": [],
      "authorship_tag": "ABX9TyMoXS8hjR5SU6JK/Q2zMYqr",
      "include_colab_link": true
    },
    "kernelspec": {
      "name": "python3",
      "display_name": "Python 3"
    },
    "language_info": {
      "name": "python"
    }
  },
  "cells": [
    {
      "cell_type": "markdown",
      "metadata": {
        "id": "view-in-github",
        "colab_type": "text"
      },
      "source": [
        "<a href=\"https://colab.research.google.com/github/fcbculey/Discrete_Math/blob/master/Project6.ipynb\" target=\"_parent\"><img src=\"https://colab.research.google.com/assets/colab-badge.svg\" alt=\"Open In Colab\"/></a>"
      ]
    },
    {
      "cell_type": "markdown",
      "source": [
        "# DISCRETE MATHEMATICS\n",
        "\n",
        "##PROJECT : NUMBERS\n",
        "## PROF. JACOB\n",
        "##KULDEEP GAUTAM [274153]\n"
      ],
      "metadata": {
        "id": "8p94Fob4xp0i"
      }
    },
    {
      "cell_type": "markdown",
      "source": [
        "#NUMBERS"
      ],
      "metadata": {
        "id": "iVJpLfPa0nRr"
      }
    },
    {
      "cell_type": "markdown",
      "source": [
        "# 1. BASE & INTO BASE 10\n",
        "\n",
        "In this project, we are asked to solve some different  numbers in different bases. \n",
        "\n",
        "According to the question, \n",
        "Converting (24036)7 into base ()10\n",
        "\n",
        "Doing it mathematically,\n",
        "\n",
        "            : (2*7^4)+(4*7^3)+(0*7^2)+(3*7^1)+(6*7^0)\n",
        "\n",
        "            :  4802  + 1372  +  0    + 21    +  6\n",
        "\n",
        "            :  6201"
      ],
      "metadata": {
        "id": "htv_NfaZyASD"
      }
    },
    {
      "cell_type": "code",
      "source": [
        "int(\"24036\",7)"
      ],
      "metadata": {
        "colab": {
          "base_uri": "https://localhost:8080/"
        },
        "id": "F6W3Nefex_m5",
        "outputId": "24ab6319-2424-43e5-8ccf-29f80c18ea90"
      },
      "execution_count": 1,
      "outputs": [
        {
          "output_type": "execute_result",
          "data": {
            "text/plain": [
              "6201"
            ]
          },
          "metadata": {},
          "execution_count": 1
        }
      ]
    },
    {
      "cell_type": "code",
      "source": [
        "(2*7**4)+(4*7**3)+(0*7**2)+(3*7**1)+(6*7**0)"
      ],
      "metadata": {
        "colab": {
          "base_uri": "https://localhost:8080/"
        },
        "id": "LrNv9HPVzODY",
        "outputId": "cfb5b7ea-8e81-470e-d957-55c3a57ae502"
      },
      "execution_count": 2,
      "outputs": [
        {
          "output_type": "execute_result",
          "data": {
            "text/plain": [
              "6201"
            ]
          },
          "metadata": {},
          "execution_count": 2
        }
      ]
    },
    {
      "cell_type": "markdown",
      "source": [
        "We get similar result from both way which satisfies my understanding."
      ],
      "metadata": {
        "id": "M1pJccaLzT1g"
      }
    },
    {
      "cell_type": "markdown",
      "source": [
        "## 2. BASE 16 INTO 10\n",
        "\n",
        "conversion of Hexadecimal number 72e3 or 0x72e3 into base 10.\n",
        "\n",
        "In this case, I am taking (0x72e3)16 into ()10.\n",
        "\n",
        "\n",
        "$$\n",
        "(0x72e3,16)\n",
        "$$"
      ],
      "metadata": {
        "id": "J3q7AJ75zgI_"
      }
    },
    {
      "cell_type": "markdown",
      "source": [
        ""
      ],
      "metadata": {
        "id": "ykUNFa9ez4uC"
      }
    },
    {
      "cell_type": "code",
      "source": [
        "int('0x72e3',16)"
      ],
      "metadata": {
        "colab": {
          "base_uri": "https://localhost:8080/"
        },
        "id": "POS9myCa0Kyb",
        "outputId": "250595ae-6173-4b36-c542-f8be91423fd3"
      },
      "execution_count": 3,
      "outputs": [
        {
          "output_type": "execute_result",
          "data": {
            "text/plain": [
              "29411"
            ]
          },
          "metadata": {},
          "execution_count": 3
        }
      ]
    },
    {
      "cell_type": "code",
      "source": [
        "(7*16**3)+(2*16**2)+(14*16**1)+(3*16**0)"
      ],
      "metadata": {
        "colab": {
          "base_uri": "https://localhost:8080/"
        },
        "id": "GLBl9HR00N2m",
        "outputId": "25a0d167-7c8e-412c-c75a-4e8e1e67f0ea"
      },
      "execution_count": 4,
      "outputs": [
        {
          "output_type": "execute_result",
          "data": {
            "text/plain": [
              "29411"
            ]
          },
          "metadata": {},
          "execution_count": 4
        }
      ]
    },
    {
      "cell_type": "markdown",
      "source": [
        ""
      ],
      "metadata": {
        "id": "lyVgCSXA0QKB"
      }
    },
    {
      "cell_type": "markdown",
      "source": [
        "# 3. BASE 10 INTO BASE 16\n",
        "\n",
        "Converting (3735928559)10 into ()16\n"
      ],
      "metadata": {
        "id": "JbivZECu0ROr"
      }
    },
    {
      "cell_type": "code",
      "source": [
        "from math import floor\n",
        "print(3735928559%16)\n",
        "floor(3735928559/16)"
      ],
      "metadata": {
        "colab": {
          "base_uri": "https://localhost:8080/"
        },
        "id": "kCyFJ3Ak1SMh",
        "outputId": "75b3d63e-b000-4efe-83fc-fe2d4802c249"
      },
      "execution_count": 5,
      "outputs": [
        {
          "output_type": "stream",
          "name": "stdout",
          "text": [
            "15\n"
          ]
        },
        {
          "output_type": "execute_result",
          "data": {
            "text/plain": [
              "233495534"
            ]
          },
          "metadata": {},
          "execution_count": 5
        }
      ]
    },
    {
      "cell_type": "code",
      "source": [
        "print(233495534%16)\n",
        "floor(233495534/16)"
      ],
      "metadata": {
        "colab": {
          "base_uri": "https://localhost:8080/"
        },
        "id": "qOoI7urz1VJk",
        "outputId": "6950e8f5-e39b-41c5-9751-f7774ff87128"
      },
      "execution_count": 6,
      "outputs": [
        {
          "output_type": "stream",
          "name": "stdout",
          "text": [
            "14\n"
          ]
        },
        {
          "output_type": "execute_result",
          "data": {
            "text/plain": [
              "14593470"
            ]
          },
          "metadata": {},
          "execution_count": 6
        }
      ]
    },
    {
      "cell_type": "code",
      "source": [
        "print(14593470%16)\n",
        "floor(14593470/16)"
      ],
      "metadata": {
        "colab": {
          "base_uri": "https://localhost:8080/"
        },
        "id": "g66Fw9gU1YQ9",
        "outputId": "5242e9e5-685d-4118-b3a5-59cf19e12d68"
      },
      "execution_count": 7,
      "outputs": [
        {
          "output_type": "stream",
          "name": "stdout",
          "text": [
            "14\n"
          ]
        },
        {
          "output_type": "execute_result",
          "data": {
            "text/plain": [
              "912091"
            ]
          },
          "metadata": {},
          "execution_count": 7
        }
      ]
    },
    {
      "cell_type": "code",
      "source": [
        "print(912091%16)\n",
        "floor(912091/16)"
      ],
      "metadata": {
        "colab": {
          "base_uri": "https://localhost:8080/"
        },
        "id": "fZ-v1jO31dXZ",
        "outputId": "f567f2a7-23ad-4de4-af4b-6f6578147483"
      },
      "execution_count": 8,
      "outputs": [
        {
          "output_type": "stream",
          "name": "stdout",
          "text": [
            "11\n"
          ]
        },
        {
          "output_type": "execute_result",
          "data": {
            "text/plain": [
              "57005"
            ]
          },
          "metadata": {},
          "execution_count": 8
        }
      ]
    },
    {
      "cell_type": "code",
      "source": [
        "print(57005%16)\n",
        "floor(57005/16)"
      ],
      "metadata": {
        "colab": {
          "base_uri": "https://localhost:8080/"
        },
        "id": "-5ccoVys1gJw",
        "outputId": "6ccdf94c-d3c7-4e8e-c46b-b4cec480f537"
      },
      "execution_count": 9,
      "outputs": [
        {
          "output_type": "stream",
          "name": "stdout",
          "text": [
            "13\n"
          ]
        },
        {
          "output_type": "execute_result",
          "data": {
            "text/plain": [
              "3562"
            ]
          },
          "metadata": {},
          "execution_count": 9
        }
      ]
    },
    {
      "cell_type": "code",
      "source": [
        "print(3562%16)\n",
        "floor(3562/16)"
      ],
      "metadata": {
        "colab": {
          "base_uri": "https://localhost:8080/"
        },
        "id": "54vS_FZ01jjL",
        "outputId": "38cdcc33-663d-429c-8953-b00f736637d1"
      },
      "execution_count": 10,
      "outputs": [
        {
          "output_type": "stream",
          "name": "stdout",
          "text": [
            "10\n"
          ]
        },
        {
          "output_type": "execute_result",
          "data": {
            "text/plain": [
              "222"
            ]
          },
          "metadata": {},
          "execution_count": 10
        }
      ]
    },
    {
      "cell_type": "code",
      "source": [
        "print(222%16)\n",
        "floor(222/16)"
      ],
      "metadata": {
        "colab": {
          "base_uri": "https://localhost:8080/"
        },
        "id": "k7vPzWOx1kw6",
        "outputId": "99737782-5faf-42c7-ba9a-c8295be37e0f"
      },
      "execution_count": 11,
      "outputs": [
        {
          "output_type": "stream",
          "name": "stdout",
          "text": [
            "14\n"
          ]
        },
        {
          "output_type": "execute_result",
          "data": {
            "text/plain": [
              "13"
            ]
          },
          "metadata": {},
          "execution_count": 11
        }
      ]
    },
    {
      "cell_type": "code",
      "source": [
        "print(13%16)\n",
        "floor(13/16)"
      ],
      "metadata": {
        "colab": {
          "base_uri": "https://localhost:8080/"
        },
        "id": "nqSgBOya1okf",
        "outputId": "58b2bd2f-1a11-4078-b59e-53c2404ce7c9"
      },
      "execution_count": 12,
      "outputs": [
        {
          "output_type": "stream",
          "name": "stdout",
          "text": [
            "13\n"
          ]
        },
        {
          "output_type": "execute_result",
          "data": {
            "text/plain": [
              "0"
            ]
          },
          "metadata": {},
          "execution_count": 12
        }
      ]
    },
    {
      "cell_type": "markdown",
      "source": [
        "We all know that, \n",
        "\n",
        "In hexadecimal, we take letters too.\n",
        "\n",
        "Accordingly, \n",
        "A = 10,\n",
        "\n",
        "B = 11,\n",
        "\n",
        "C = 12, \n",
        "\n",
        "D = 13, \n",
        "\n",
        "E = 14,\n",
        "\n",
        "F = 15\n",
        "\n",
        "so,\n",
        "\n",
        " the given number (3735928559)16 = DEADBEEF\n"
      ],
      "metadata": {
        "id": "7oHXckwy17k6"
      }
    },
    {
      "cell_type": "code",
      "source": [
        "(13*16**7)+(14*16**6)+(10*16**5)+(13*16**4)+(11*16**3)+(14*16**2)+(14*16**1)+(15*16**0)\n"
      ],
      "metadata": {
        "colab": {
          "base_uri": "https://localhost:8080/"
        },
        "id": "JiRwipk21_um",
        "outputId": "d19a7df1-88ae-43de-8bdf-7f187ef73238"
      },
      "execution_count": 13,
      "outputs": [
        {
          "output_type": "execute_result",
          "data": {
            "text/plain": [
              "3735928559"
            ]
          },
          "metadata": {},
          "execution_count": 13
        }
      ]
    },
    {
      "cell_type": "code",
      "source": [
        "int(0xDEADBEEF)"
      ],
      "metadata": {
        "colab": {
          "base_uri": "https://localhost:8080/"
        },
        "id": "AoysM3B43ALv",
        "outputId": "19e96ee9-bf97-4be8-82f1-7b77dc6d0a5d"
      },
      "execution_count": 14,
      "outputs": [
        {
          "output_type": "execute_result",
          "data": {
            "text/plain": [
              "3735928559"
            ]
          },
          "metadata": {},
          "execution_count": 14
        }
      ]
    },
    {
      "cell_type": "markdown",
      "source": [
        "This clarify the whole solution. "
      ],
      "metadata": {
        "id": "QBHhUFIs3Dtn"
      }
    },
    {
      "cell_type": "markdown",
      "source": [
        "# 4. SUBTRACTION using two's compliment\n"
      ],
      "metadata": {
        "id": "yTP_Hu9A3UHS"
      }
    },
    {
      "cell_type": "markdown",
      "source": [
        "Subtracting\n",
        "$$\n",
        "  25 - 37\n",
        "$$\n"
      ],
      "metadata": {
        "id": "7X7GGHGk3dtj"
      }
    },
    {
      "cell_type": "markdown",
      "source": [
        "Firstly, \n",
        "\n",
        "binary representation for both numbers. \n",
        "$$\n",
        "25 = 1 1 0 0 1,\n",
        "37 = 0 0 1 0 0 1 0 1\n",
        "$$\n",
        "\n",
        "since, 37 is (-)ve, \n",
        "\n",
        "  0 0 1 0 0 1 0 1\n",
        "\n",
        "            switching 1's and 0's\n",
        "\n",
        "            1 1 0 1 1 0 1 0\n",
        "\n",
        "            adding 1\n",
        "\n",
        "            1 1 0 1 1 0 1 1"
      ],
      "metadata": {
        "id": "h4kBAwpJ4Kyf"
      }
    },
    {
      "cell_type": "code",
      "source": [
        "a = \"11001\"\n",
        "b = \"11011011\"\n",
        "\n",
        "sum = bin(int(a, 2) + int(b, 2))\n",
        "\n",
        "print(sum[2:])"
      ],
      "metadata": {
        "colab": {
          "base_uri": "https://localhost:8080/"
        },
        "id": "DdBTXRb53906",
        "outputId": "fdf066ab-73d1-4728-fc6f-84bb77bb48d2"
      },
      "execution_count": 15,
      "outputs": [
        {
          "output_type": "stream",
          "name": "stdout",
          "text": [
            "11110100\n"
          ]
        }
      ]
    },
    {
      "cell_type": "markdown",
      "source": [
        "#FINDINGS\n",
        "\n",
        "I found out that the playing with numbers is much more interesting and satisfactory.Some conversions were not possible only using python so I used hand method for them. \n",
        "\n",
        "Binary basically means 0's and 1's which are computer readable numbers while hexadecimal is to provide a human-friendly representation of binary-coded values. "
      ],
      "metadata": {
        "id": "20y5U-cw5Stl"
      }
    }
  ]
}