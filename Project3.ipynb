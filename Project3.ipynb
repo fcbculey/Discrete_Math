{
  "nbformat": 4,
  "nbformat_minor": 0,
  "metadata": {
    "colab": {
      "name": "Project3.ipynb",
      "provenance": [],
      "authorship_tag": "ABX9TyN9oYyM8RupmLQmgSRXvZlZ",
      "include_colab_link": true
    },
    "kernelspec": {
      "name": "python3",
      "display_name": "Python 3"
    },
    "language_info": {
      "name": "python"
    }
  },
  "cells": [
    {
      "cell_type": "markdown",
      "metadata": {
        "id": "view-in-github",
        "colab_type": "text"
      },
      "source": [
        "<a href=\"https://colab.research.google.com/github/fcbculey/Discrete_Math/blob/master/Project3.ipynb\" target=\"_parent\"><img src=\"https://colab.research.google.com/assets/colab-badge.svg\" alt=\"Open In Colab\"/></a>"
      ]
    },
    {
      "cell_type": "markdown",
      "source": [
        "#Discrete Mathematics [CPSMA-3913-01]\n",
        "\n",
        "##Project Name : Probability\n",
        "\n",
        "##Prof. Dr. Jacob\n",
        "\n",
        "##Kuldeep Gautam [274153]\n"
      ],
      "metadata": {
        "id": "e9mftEYvyUJn"
      }
    },
    {
      "cell_type": "markdown",
      "source": [
        "#PROBABILITY"
      ],
      "metadata": {
        "id": "Bv7dQ3ZGUd_e"
      }
    },
    {
      "cell_type": "markdown",
      "source": [
        "#Description\n",
        "\n",
        "The match between Liverpool vs. Manchester City is about to begin and two die hard fans of each teams are watching game in the sports bar.Both of them are arguing on who is gonna win the match.In this scenario,they both agreed to flip the coin.The possible probability  of winning the game is $W$ = $\\frac25$, probability of Losing the game is $L$ = $\\frac25$ and the probability of draw is $D$ = $\\frac15$.\n",
        "\n",
        "![download.png](data:image/png;base64,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)"
      ],
      "metadata": {
        "id": "PbUiSJ-_y0Fr"
      }
    },
    {
      "cell_type": "code",
      "source": [
        "prob = [2/5,2/5,1/5]\n",
        "sum(prob)\n",
        "\n",
        "#here, prob is the possible outcomes."
      ],
      "metadata": {
        "colab": {
          "base_uri": "https://localhost:8080/"
        },
        "id": "17dwmkwDz9QJ",
        "outputId": "04fb9a61-5252-435f-b5ca-590d77253762"
      },
      "execution_count": null,
      "outputs": [
        {
          "output_type": "execute_result",
          "data": {
            "text/plain": [
              "1.0"
            ]
          },
          "metadata": {},
          "execution_count": 22
        }
      ]
    },
    {
      "cell_type": "markdown",
      "source": [
        "If one of the fan doesn't like the coin toss decision. The chances of tossing the coin again is represent by A. \n",
        "\n"
      ],
      "metadata": {
        "id": "8rDwehyD1LvP"
      }
    },
    {
      "cell_type": "code",
      "source": [
        "probabilityA =0\n",
        "\n",
        "for i in [0,2]:\n",
        "  probabilityA = probabilityA + prob[i]\n",
        "      \n"
      ],
      "metadata": {
        "id": "H5JrsusE_s-m"
      },
      "execution_count": null,
      "outputs": []
    },
    {
      "cell_type": "code",
      "source": [
        "probabilityA"
      ],
      "metadata": {
        "colab": {
          "base_uri": "https://localhost:8080/"
        },
        "id": "DfZpJmcUBF5Y",
        "outputId": "122228a9-f8f1-4470-bd66-343015944319"
      },
      "execution_count": null,
      "outputs": [
        {
          "output_type": "execute_result",
          "data": {
            "text/plain": [
              "0.6000000000000001"
            ]
          },
          "metadata": {},
          "execution_count": 28
        }
      ]
    },
    {
      "cell_type": "markdown",
      "source": [
        "#Probability of Winning and Losing the Game\n",
        "\n",
        "In this part of the project, The probability of  winning the match is:\n",
        "\n",
        "\n",
        "\n"
      ],
      "metadata": {
        "id": "mV6fEIb3ZwWv"
      }
    },
    {
      "cell_type": "markdown",
      "source": [
        "\n",
        "$$\n",
        "P(W|A)=\\frac{P(W\\cap A)}{P(A)}\n",
        "$$"
      ],
      "metadata": {
        "id": "CI24r8C_Bv_M"
      }
    },
    {
      "cell_type": "code",
      "source": [
        "2/5/probabilityA"
      ],
      "metadata": {
        "colab": {
          "base_uri": "https://localhost:8080/"
        },
        "id": "N37tKLMuDzqx",
        "outputId": "293c5627-a1f0-40fe-b95b-b9d9cff0c735"
      },
      "execution_count": null,
      "outputs": [
        {
          "output_type": "execute_result",
          "data": {
            "text/plain": [
              "0.6666666666666666"
            ]
          },
          "metadata": {},
          "execution_count": 29
        }
      ]
    },
    {
      "cell_type": "markdown",
      "source": [
        "The probability of losing the game is: \n",
        "\n",
        "$$\n",
        "P(L|A)=\\frac{P(L\\cap A)}{P(A)}\n",
        "$$"
      ],
      "metadata": {
        "id": "e1qk-TagbZCu"
      }
    },
    {
      "cell_type": "code",
      "source": [
        "2/5/probabilityA"
      ],
      "metadata": {
        "colab": {
          "base_uri": "https://localhost:8080/"
        },
        "id": "39ecJ0GnbroV",
        "outputId": "95e5ccca-6580-4848-df8d-0c9647684265"
      },
      "execution_count": null,
      "outputs": [
        {
          "output_type": "execute_result",
          "data": {
            "text/plain": [
              "0.6666666666666666"
            ]
          },
          "metadata": {},
          "execution_count": 32
        }
      ]
    },
    {
      "cell_type": "markdown",
      "source": [
        "#Using Bayes' Theorem\n",
        "\n",
        " I am going to apply Bayes' theorem.\n",
        "\n",
        "Mathematically, it is expressed as:\n",
        "\n",
        "\n",
        "$$\n",
        "P(W|L) = \\frac{P(W) . P(L|W)}{P(L)}\n",
        "$$\n",
        "\n",
        "\n",
        "Here, We know that,\n",
        "\n",
        "W = L = events\n",
        "\n",
        "P(W/L) = the probability of W given L is true\n",
        "\n",
        "P(L/W) = the probability of L given W is true\n",
        "\n",
        "P(W) = the independent probabilty of W\n",
        "\n",
        "P(L) = the independent probability of L"
      ],
      "metadata": {
        "id": "aEbawYkSEOVf"
      }
    },
    {
      "cell_type": "code",
      "source": [
        "0.6666666666666666==(2/5*1)/probabilityA"
      ],
      "metadata": {
        "colab": {
          "base_uri": "https://localhost:8080/"
        },
        "id": "m-DqxpBwE1QN",
        "outputId": "70c70b83-3545-4f6d-8c4a-ae5437a31ee0"
      },
      "execution_count": null,
      "outputs": [
        {
          "output_type": "execute_result",
          "data": {
            "text/plain": [
              "True"
            ]
          },
          "metadata": {},
          "execution_count": 33
        }
      ]
    },
    {
      "cell_type": "markdown",
      "source": [
        "I got similar outcomes from both way of calculation."
      ],
      "metadata": {
        "id": "2uZHipIMQDu0"
      }
    },
    {
      "cell_type": "markdown",
      "source": [
        "#Complement \n",
        "\n",
        "In terms of finding the compliment, I am going to deduct the probability of winning, i.e. $\\frac25$, from 1."
      ],
      "metadata": {
        "id": "_g_8MNohckIr"
      }
    },
    {
      "cell_type": "code",
      "source": [
        "probabilityW = 2/5\n",
        "\n",
        "1- probabilityW\n",
        "\n",
        "#here, probabilityW is the complement of W."
      ],
      "metadata": {
        "colab": {
          "base_uri": "https://localhost:8080/"
        },
        "id": "xjz7Mxf7dMUq",
        "outputId": "11341f53-69a9-4ed1-e9d8-1fa00e5b58b6"
      },
      "execution_count": null,
      "outputs": [
        {
          "output_type": "execute_result",
          "data": {
            "text/plain": [
              "0.6"
            ]
          },
          "metadata": {},
          "execution_count": 34
        }
      ]
    },
    {
      "cell_type": "markdown",
      "source": [
        "The complement is found to be 0.6"
      ],
      "metadata": {
        "id": "zimCNpMSgoMK"
      }
    },
    {
      "cell_type": "markdown",
      "source": [
        "#Simulation with Probability\n",
        "\n",
        "In this part of the project, I am giving another name to the prob is prob5 and fliping it for 10 times. "
      ],
      "metadata": {
        "id": "QKVOomx3d7Qe"
      }
    },
    {
      "cell_type": "code",
      "source": [
        "prob5 = [5*i for i in prob]\n",
        "prob =[2/5,2/5,1/5]\n",
        "\n",
        "prob5"
      ],
      "metadata": {
        "colab": {
          "base_uri": "https://localhost:8080/"
        },
        "id": "pvKS8euchdtw",
        "outputId": "03ae3367-c3cf-4999-82fb-5c1da52a1d93"
      },
      "execution_count": null,
      "outputs": [
        {
          "output_type": "execute_result",
          "data": {
            "text/plain": [
              "[2.0, 2.0, 1.0]"
            ]
          },
          "metadata": {},
          "execution_count": 39
        }
      ]
    },
    {
      "cell_type": "code",
      "source": [
        "from random import choices\n",
        "\n",
        "choices(['win','lose','draw'],prob,k=10)"
      ],
      "metadata": {
        "colab": {
          "base_uri": "https://localhost:8080/"
        },
        "id": "phhXaA5liHws",
        "outputId": "c2bc6d8c-1fd0-45cc-91e0-cdf141119ad6"
      },
      "execution_count": null,
      "outputs": [
        {
          "output_type": "execute_result",
          "data": {
            "text/plain": [
              "['win', 'lose', 'win', 'draw', 'win', 'win', 'draw', 'lose', 'draw', 'lose']"
            ]
          },
          "metadata": {},
          "execution_count": 46
        }
      ]
    },
    {
      "cell_type": "code",
      "source": [
        "choices(['win','lose','draw'],prob5,k=10)"
      ],
      "metadata": {
        "colab": {
          "base_uri": "https://localhost:8080/"
        },
        "id": "SNF2jAu1i-Lm",
        "outputId": "65645187-ae92-43ae-f84c-95c7b668c729"
      },
      "execution_count": null,
      "outputs": [
        {
          "output_type": "execute_result",
          "data": {
            "text/plain": [
              "['lose', 'lose', 'lose', 'draw', 'win', 'lose', 'draw', 'lose', 'draw', 'win']"
            ]
          },
          "metadata": {},
          "execution_count": 45
        }
      ]
    },
    {
      "cell_type": "markdown",
      "source": [
        "Here, I am fliping the coin for 100 times to obtain the results everytime different. "
      ],
      "metadata": {
        "id": "RNReiUS0j2s9"
      }
    },
    {
      "cell_type": "code",
      "source": [
        "ROLLINGS =  choices(['win','lose','draw'],prob5,k=100)\n",
        "\n",
        "cwin = 0\n",
        "close = 0\n",
        "cdraw = 0\n",
        "\n",
        "for i in ROLLINGS:\n",
        "  if i =='win':\n",
        "    cwin += 1\n",
        "  elif i == 'lose':\n",
        "    close += 1\n",
        "  elif i == 'draw':\n",
        "    cdraw += 1\n",
        "\n",
        "possible = [cwin/len(ROLLINGS),close/len(ROLLINGS),cdraw/len(ROLLINGS)]"
      ],
      "metadata": {
        "id": "dq3I-d23j1Je"
      },
      "execution_count": null,
      "outputs": []
    },
    {
      "cell_type": "code",
      "source": [
        "possible"
      ],
      "metadata": {
        "colab": {
          "base_uri": "https://localhost:8080/"
        },
        "id": "-kb3ek6okcIh",
        "outputId": "70ddd37b-170d-4413-ccba-84dc4b35377a"
      },
      "execution_count": null,
      "outputs": [
        {
          "output_type": "execute_result",
          "data": {
            "text/plain": [
              "[0.36, 0.47, 0.17]"
            ]
          },
          "metadata": {},
          "execution_count": 65
        }
      ]
    },
    {
      "cell_type": "markdown",
      "source": [
        "#FINDINGS\n",
        "\n",
        "Predicting is very hard.Everytime I run the code, the results are different everytime.So, calculating probability in real life might not be ideal as it looks from the code. \n",
        "\n",
        "I did not find any difficulty in running the code which saves me from doing it by hand. \n",
        "\n",
        "I found out the project is interesting but too time consuming. I had to be more serious on coding part rather than doing rest of the project. \n"
      ],
      "metadata": {
        "id": "0pa76HualCfk"
      }
    }
  ]
}