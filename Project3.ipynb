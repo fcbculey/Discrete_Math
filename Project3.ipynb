{
  "nbformat": 4,
  "nbformat_minor": 0,
  "metadata": {
    "colab": {
      "name": "Project3.ipynb",
      "provenance": [],
      "authorship_tag": "ABX9TyNYXBHhytyHc9aMqycIqXfw",
      "include_colab_link": true
    },
    "kernelspec": {
      "name": "python3",
      "display_name": "Python 3"
    },
    "language_info": {
      "name": "python"
    }
  },
  "cells": [
    {
      "cell_type": "markdown",
      "metadata": {
        "id": "view-in-github",
        "colab_type": "text"
      },
      "source": [
        "<a href=\"https://colab.research.google.com/github/fcbculey/Discrete_Math/blob/master/Project3.ipynb\" target=\"_parent\"><img src=\"https://colab.research.google.com/assets/colab-badge.svg\" alt=\"Open In Colab\"/></a>"
      ]
    },
    {
      "cell_type": "markdown",
      "source": [
        "#Discrete Mathematics [CPSMA-3913-01]\n",
        "\n",
        "##Project Name : Probability\n",
        "\n",
        "##Prof. Dr. Jacob\n",
        "\n",
        "##Kuldeep Gautam [274153]\n"
      ],
      "metadata": {
        "id": "e9mftEYvyUJn"
      }
    },
    {
      "cell_type": "markdown",
      "source": [
        "#PROBABILITY"
      ],
      "metadata": {
        "id": "Bv7dQ3ZGUd_e"
      }
    },
    {
      "cell_type": "markdown",
      "source": [
        "#Description\n",
        "\n",
        "The match between Liverpool vs. Manchester City is going on and two  die hard fans of each teams are watching game at the sports bar.Both of them are arguing on who is gonna win the match.In this scenario,they both agreed to roll the dice.Then,the possible probability  of winning the game is $W$ = $\\frac25$, probability of Losing the game is $L$ = $\\frac25$ and the probability of draw is $D$= $\\frac15$."
      ],
      "metadata": {
        "id": "PbUiSJ-_y0Fr"
      }
    },
    {
      "cell_type": "code",
      "source": [
        "prob = [2/5,2/5,1/5]\n",
        "sum(prob)\n",
        "\n",
        "#here, prob is the possible outcomes."
      ],
      "metadata": {
        "colab": {
          "base_uri": "https://localhost:8080/"
        },
        "id": "17dwmkwDz9QJ",
        "outputId": "04fb9a61-5252-435f-b5ca-590d77253762"
      },
      "execution_count": 22,
      "outputs": [
        {
          "output_type": "execute_result",
          "data": {
            "text/plain": [
              "1.0"
            ]
          },
          "metadata": {},
          "execution_count": 22
        }
      ]
    },
    {
      "cell_type": "markdown",
      "source": [
        "If one of the fan doesn't like the coin toss decision. The chances of tossing the coin again is represent by A. \n",
        "\n"
      ],
      "metadata": {
        "id": "8rDwehyD1LvP"
      }
    },
    {
      "cell_type": "code",
      "source": [
        "probabilityA =0\n",
        "\n",
        "for i in [0,2]:\n",
        "  probabilityA = probabilityA + prob[i]\n",
        "      \n"
      ],
      "metadata": {
        "id": "H5JrsusE_s-m"
      },
      "execution_count": 27,
      "outputs": []
    },
    {
      "cell_type": "code",
      "source": [
        "probabilityA"
      ],
      "metadata": {
        "colab": {
          "base_uri": "https://localhost:8080/"
        },
        "id": "DfZpJmcUBF5Y",
        "outputId": "122228a9-f8f1-4470-bd66-343015944319"
      },
      "execution_count": 28,
      "outputs": [
        {
          "output_type": "execute_result",
          "data": {
            "text/plain": [
              "0.6000000000000001"
            ]
          },
          "metadata": {},
          "execution_count": 28
        }
      ]
    },
    {
      "cell_type": "markdown",
      "source": [
        "#Probability of Winning and Losing the Game\n",
        "\n",
        "In this part of the project, The probability of  winning the match is:\n",
        "\n",
        "\n",
        "\n"
      ],
      "metadata": {
        "id": "mV6fEIb3ZwWv"
      }
    },
    {
      "cell_type": "markdown",
      "source": [
        "\n",
        "$$\n",
        "P(W|A)=\\frac{P(W\\cap A)}{P(A)}\n",
        "$$"
      ],
      "metadata": {
        "id": "CI24r8C_Bv_M"
      }
    },
    {
      "cell_type": "code",
      "source": [
        "2/5/probabilityA"
      ],
      "metadata": {
        "colab": {
          "base_uri": "https://localhost:8080/"
        },
        "id": "N37tKLMuDzqx",
        "outputId": "293c5627-a1f0-40fe-b95b-b9d9cff0c735"
      },
      "execution_count": 29,
      "outputs": [
        {
          "output_type": "execute_result",
          "data": {
            "text/plain": [
              "0.6666666666666666"
            ]
          },
          "metadata": {},
          "execution_count": 29
        }
      ]
    },
    {
      "cell_type": "markdown",
      "source": [
        "The probability of losing the game is: \n",
        "\n",
        "$$\n",
        "P(L|A)=\\frac{P(L\\cap A)}{P(A)}\n",
        "$$"
      ],
      "metadata": {
        "id": "e1qk-TagbZCu"
      }
    },
    {
      "cell_type": "code",
      "source": [
        "2/5/probabilityA"
      ],
      "metadata": {
        "colab": {
          "base_uri": "https://localhost:8080/"
        },
        "id": "39ecJ0GnbroV",
        "outputId": "95e5ccca-6580-4848-df8d-0c9647684265"
      },
      "execution_count": 32,
      "outputs": [
        {
          "output_type": "execute_result",
          "data": {
            "text/plain": [
              "0.6666666666666666"
            ]
          },
          "metadata": {},
          "execution_count": 32
        }
      ]
    },
    {
      "cell_type": "markdown",
      "source": [
        "#Using Bayes' Theorem\n",
        "\n",
        " I am going to apply Bayes' theorem.\n",
        "\n",
        "Mathematically, it is expressed as:\n",
        "\n",
        "\n",
        "$$\n",
        "P(W|L) = \\frac{P(W) . P(L|W)}{P(L)}\n",
        "$$\n",
        "\n",
        "\n",
        "Here, We know that,\n",
        "\n",
        "W = L = events\n",
        "\n",
        "P(W/L) = the probability of W given L is true\n",
        "\n",
        "P(L/W) = the probability of L given W is true\n",
        "\n",
        "P(W) = the independent probabilty of W\n",
        "\n",
        "P(L) = the independent probability of L"
      ],
      "metadata": {
        "id": "aEbawYkSEOVf"
      }
    },
    {
      "cell_type": "code",
      "source": [
        "0.6666666666666666==(2/5*1)/probabilityA"
      ],
      "metadata": {
        "colab": {
          "base_uri": "https://localhost:8080/"
        },
        "id": "m-DqxpBwE1QN",
        "outputId": "70c70b83-3545-4f6d-8c4a-ae5437a31ee0"
      },
      "execution_count": 33,
      "outputs": [
        {
          "output_type": "execute_result",
          "data": {
            "text/plain": [
              "True"
            ]
          },
          "metadata": {},
          "execution_count": 33
        }
      ]
    },
    {
      "cell_type": "markdown",
      "source": [
        "#Complement \n",
        "\n",
        "I am going to deduct the obtain results of probability from both winning  from 1. "
      ],
      "metadata": {
        "id": "_g_8MNohckIr"
      }
    },
    {
      "cell_type": "code",
      "source": [
        "probabilityW = 2/5\n",
        "\n",
        "1- probabilityW\n",
        "\n",
        "#here, probabilityW is the complement of W."
      ],
      "metadata": {
        "colab": {
          "base_uri": "https://localhost:8080/"
        },
        "id": "xjz7Mxf7dMUq",
        "outputId": "11341f53-69a9-4ed1-e9d8-1fa00e5b58b6"
      },
      "execution_count": 34,
      "outputs": [
        {
          "output_type": "execute_result",
          "data": {
            "text/plain": [
              "0.6"
            ]
          },
          "metadata": {},
          "execution_count": 34
        }
      ]
    },
    {
      "cell_type": "markdown",
      "source": [
        "The complement is found to be 0.6"
      ],
      "metadata": {
        "id": "zimCNpMSgoMK"
      }
    },
    {
      "cell_type": "markdown",
      "source": [
        "#Simulation with Probability\n",
        "\n",
        "In this part of the project, I am giving another name to the prob is prob5 and fliping it for 10 times. "
      ],
      "metadata": {
        "id": "QKVOomx3d7Qe"
      }
    },
    {
      "cell_type": "code",
      "source": [
        "prob5 = [5*i for i in prob]\n",
        "prob =[2/5,2/5,1/5]\n",
        "\n",
        "prob5"
      ],
      "metadata": {
        "colab": {
          "base_uri": "https://localhost:8080/"
        },
        "id": "pvKS8euchdtw",
        "outputId": "03ae3367-c3cf-4999-82fb-5c1da52a1d93"
      },
      "execution_count": 39,
      "outputs": [
        {
          "output_type": "execute_result",
          "data": {
            "text/plain": [
              "[2.0, 2.0, 1.0]"
            ]
          },
          "metadata": {},
          "execution_count": 39
        }
      ]
    },
    {
      "cell_type": "code",
      "source": [
        "from random import choices\n",
        "\n",
        "choices(['win','lose','draw'],prob,k=10)"
      ],
      "metadata": {
        "colab": {
          "base_uri": "https://localhost:8080/"
        },
        "id": "phhXaA5liHws",
        "outputId": "c2bc6d8c-1fd0-45cc-91e0-cdf141119ad6"
      },
      "execution_count": 46,
      "outputs": [
        {
          "output_type": "execute_result",
          "data": {
            "text/plain": [
              "['win', 'lose', 'win', 'draw', 'win', 'win', 'draw', 'lose', 'draw', 'lose']"
            ]
          },
          "metadata": {},
          "execution_count": 46
        }
      ]
    },
    {
      "cell_type": "code",
      "source": [
        "choices(['win','lose','draw'],prob5,k=10)"
      ],
      "metadata": {
        "colab": {
          "base_uri": "https://localhost:8080/"
        },
        "id": "SNF2jAu1i-Lm",
        "outputId": "65645187-ae92-43ae-f84c-95c7b668c729"
      },
      "execution_count": 45,
      "outputs": [
        {
          "output_type": "execute_result",
          "data": {
            "text/plain": [
              "['lose', 'lose', 'lose', 'draw', 'win', 'lose', 'draw', 'lose', 'draw', 'win']"
            ]
          },
          "metadata": {},
          "execution_count": 45
        }
      ]
    },
    {
      "cell_type": "markdown",
      "source": [
        "Here, I am fliping the coin for 100 times to obtain the results everytime different. "
      ],
      "metadata": {
        "id": "RNReiUS0j2s9"
      }
    },
    {
      "cell_type": "code",
      "source": [
        "ROLLINGS =  choices(['win','lose','draw'],prob5,k=100)\n",
        "\n",
        "cwin = 0\n",
        "close = 0\n",
        "cdraw = 0\n",
        "\n",
        "for i in ROLLINGS:\n",
        "  if i =='win':\n",
        "    cwin += 1\n",
        "  elif i == 'lose':\n",
        "    close += 1\n",
        "  elif i == 'draw':\n",
        "    cdraw += 1\n",
        "\n",
        "possible = [cwin/len(ROLLINGS),close/len(ROLLINGS),cdraw/len(ROLLINGS)]"
      ],
      "metadata": {
        "id": "dq3I-d23j1Je"
      },
      "execution_count": 64,
      "outputs": []
    },
    {
      "cell_type": "code",
      "source": [
        "possible"
      ],
      "metadata": {
        "colab": {
          "base_uri": "https://localhost:8080/"
        },
        "id": "-kb3ek6okcIh",
        "outputId": "70ddd37b-170d-4413-ccba-84dc4b35377a"
      },
      "execution_count": 65,
      "outputs": [
        {
          "output_type": "execute_result",
          "data": {
            "text/plain": [
              "[0.36, 0.47, 0.17]"
            ]
          },
          "metadata": {},
          "execution_count": 65
        }
      ]
    },
    {
      "cell_type": "markdown",
      "source": [
        "#FINDINGS\n",
        "\n",
        "Predicting is very hard as everytime I run the code, the results are different everytime.So, calculating probability in real life might not be ideal as it looks from the code. \n",
        "\n",
        "I did not find any difficulty in running the code which saves me from doing it by hand. \n",
        "\n",
        "I found out the project is interesting but too time consuming. I had to be more serious on coding part rather than doing rest of the project. \n"
      ],
      "metadata": {
        "id": "0pa76HualCfk"
      }
    }
  ]
}