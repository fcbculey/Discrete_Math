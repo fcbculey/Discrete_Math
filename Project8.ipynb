{
  "nbformat": 4,
  "nbformat_minor": 0,
  "metadata": {
    "colab": {
      "name": "Project8.ipynb",
      "provenance": [],
      "authorship_tag": "ABX9TyPbpYnC/DZQr27QyNOmKDsZ",
      "include_colab_link": true
    },
    "kernelspec": {
      "name": "python3",
      "display_name": "Python 3"
    },
    "language_info": {
      "name": "python"
    }
  },
  "cells": [
    {
      "cell_type": "markdown",
      "metadata": {
        "id": "view-in-github",
        "colab_type": "text"
      },
      "source": [
        "<a href=\"https://colab.research.google.com/github/fcbculey/Discrete_Math/blob/master/Project8.ipynb\" target=\"_parent\"><img src=\"https://colab.research.google.com/assets/colab-badge.svg\" alt=\"Open In Colab\"/></a>"
      ]
    },
    {
      "cell_type": "markdown",
      "source": [
        "#  DISCRETE MATHEMATICS\n",
        "\n",
        "## PROJECT : PROOF\n",
        "\n",
        "## PROF. JACOB\n",
        "\n",
        "## KULDEEP GAUTAM  [274153]"
      ],
      "metadata": {
        "id": "N7wgwfLNzEjt"
      }
    },
    {
      "cell_type": "markdown",
      "source": [
        "#Graph"
      ],
      "metadata": {
        "id": "gwuMIzGuzbpr"
      }
    },
    {
      "cell_type": "markdown",
      "source": [
        "For this project, I am going to prove y = 4 is a intercept from the given linear equation.\n",
        "\n",
        "$$\n",
        "y = mx+b \n",
        "$$\n",
        "where,\n",
        "\n",
        "(0,b) =  (0,4) \n",
        "\n",
        "Now, plotting it into graph."
      ],
      "metadata": {
        "id": "bvoveW1xzeYA"
      }
    },
    {
      "cell_type": "code",
      "source": [
        "import matplotlib.pyplot as plt\n",
        "import numpy as np\n",
        "\n",
        "x = np.arange(2,4,.1) \n",
        "\n",
        "plt.plot(2*x+4)\n",
        "plt.scatter(0,8, c='black',s = 60)\n",
        "plt.scatter(10,10,c='black',s = 60)\n",
        "plt.show()"
      ],
      "metadata": {
        "colab": {
          "base_uri": "https://localhost:8080/",
          "height": 265
        },
        "id": "NG1sJzYgznoV",
        "outputId": "70914334-a12a-40fd-eecc-435eb96d090c"
      },
      "execution_count": 17,
      "outputs": [
        {
          "output_type": "display_data",
          "data": {
            "image/png": "[encoded data removed]",
            "text/plain": [
              "<Figure size 432x288 with 1 Axes>"
            ]
          },
          "metadata": {
            "needs_background": "light"
          }
        }
      ]
    },
    {
      "cell_type": "markdown",
      "source": [
        "Awesome, the graph looks exactly similar to that I sketch roughly. "
      ],
      "metadata": {
        "id": "uw4iYD6S-1rh"
      }
    },
    {
      "cell_type": "markdown",
      "source": [
        "#Proof"
      ],
      "metadata": {
        "id": "gN0I165N-sEc"
      }
    },
    {
      "cell_type": "markdown",
      "source": [
        "In this part, I am going to check either the given value lies in the equation as: "
      ],
      "metadata": {
        "id": "yWCffqeS2yXN"
      }
    },
    {
      "cell_type": "code",
      "source": [
        "4 == 2*0+4"
      ],
      "metadata": {
        "colab": {
          "base_uri": "https://localhost:8080/"
        },
        "id": "liLnKsLG2zGh",
        "outputId": "29bed602-437c-4463-e6b4-533466ec4d00"
      },
      "execution_count": 16,
      "outputs": [
        {
          "output_type": "execute_result",
          "data": {
            "text/plain": [
              "True"
            ]
          },
          "metadata": {},
          "execution_count": 16
        }
      ]
    },
    {
      "cell_type": "markdown",
      "source": [
        "#FINDINGS\n",
        "\n"
      ],
      "metadata": {
        "id": "zcv6P0oH53V7"
      }
    },
    {
      "cell_type": "markdown",
      "source": [
        "Working with linear equation is always a exciting topic.I tried using non-zero values for (x,b) in a graph using python. I got the expected result which make me much easier to check either it is in y-intercepts or not.Great! I got that true too. "
      ],
      "metadata": {
        "id": "xf04bOvq7vk5"
      }
    }
  ]
}